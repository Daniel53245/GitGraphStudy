{
 "cells": [
  {
   "cell_type": "code",
   "execution_count": 2,
   "metadata": {},
   "outputs": [],
   "source": [
    "import requests\n",
    "import time\n",
    "import json\n",
    "import logging\n",
    "logging.basicConfig(filename='error.log', level=logging.WARNING, format='%(asctime)s - %(levelname)s - %(message)s')"
   ]
  },
  {
   "cell_type": "code",
   "execution_count": 3,
   "metadata": {},
   "outputs": [],
   "source": [
    "def fetch_commits(owner, repo, branch='main', token='', per_page=100, pages=5):\n",
    "    headers = {'Authorization': f'token {token}'} if token else {}\n",
    "    commits = []\n",
    "    url = f'https://api.github.com/repos/{owner}/{repo}/commits?sha={branch}&per_page={per_page}'\n",
    "    current_page = 0\n",
    "\n",
    "    while url:\n",
    "        response = requests.get(url, headers=headers)\n",
    "        if response.status_code != 200:\n",
    "            print(\"Failed to fetch data:\", response.json())  # Print the error message\n",
    "            break\n",
    "\n",
    "        page_commits = response.json()\n",
    "        commits.extend(page_commits)\n",
    "        current_page += 1\n",
    "\n",
    "        if 'next' in response.links and (pages is None or current_page < pages):\n",
    "            url = response.links['next']['url']\n",
    "        else:\n",
    "            break\n",
    "\n",
    "    return commits\n",
    "\n",
    "\n",
    "\n",
    "def fetch_pull_requests_for_commit(owner, repo, commit_sha, token=''):\n",
    "    \"\"\" Fetch pull requests associated with a specific commit. \"\"\"\n",
    "    headers = {'Authorization': f'token {token}'} if token else {}\n",
    "    url = f'https://api.github.com/repos/{owner}/{repo}/commits/{commit_sha}/pulls'\n",
    "    try:\n",
    "        response = requests.get(url, headers=headers, params={'per_page': 100})\n",
    "        response.raise_for_status()  # Raise an exception for 4xx or 5xx status codes\n",
    "        pull_requests = response.json()\n",
    "        return pull_requests\n",
    "    except requests.exceptions.RequestException as e:\n",
    "        # Log the error along with the URL\n",
    "        logging.error(f\"Error fetching pull requests for URL: {url}. Error: {e}\")\n",
    "        # You can choose to return None or an empty list, depending on how you want to handle errors\n",
    "        return None\n",
    "\n",
    "def label_commits_with_prs(owner, repo, commits, token=''):\n",
    "    accum = 0\n",
    "    \"\"\" Label commits whether they are associated with a pull request. \"\"\"\n",
    "    for commit in commits:\n",
    "        time.sleep(1)\n",
    "        #print(\"Commit is \", commit)\n",
    "        commit_sha = commit['sha']\n",
    "        prs = fetch_pull_requests_for_commit(owner, repo, commit_sha, token)\n",
    "        commit['pull_requests'] = prs\n",
    "        #print(f\"Commit {commit_sha} is associated with {len(prs)} pull request(s).\")\n",
    "        accum += 1\n",
    "        if accum % 10 == 0:\n",
    "            print(f\"Processed {accum} commits.\")\n",
    "    return commits\n"
   ]
  },
  {
   "cell_type": "markdown",
   "metadata": {},
   "source": [
    "# Target repository Specifiction"
   ]
  },
  {
   "cell_type": "code",
   "execution_count": null,
   "metadata": {},
   "outputs": [
    {
     "name": "stdout",
     "output_type": "stream",
     "text": [
      "Fetched 10 commits.\n"
     ]
    }
   ],
   "source": [
    "owner = 'numpy'\n",
    "repo = 'numpy'\n",
    "branch = 'main'\n",
    "token = open(\"token.secret\").read().strip()\n",
    "commit_data = fetch_commits(owner, repo, branch, token,per_page=10,pages=1)\n",
    "print(f\"Fetched {len(commit_data)} commits.\")"
   ]
  },
  {
   "cell_type": "code",
   "execution_count": null,
   "metadata": {},
   "outputs": [
    {
     "name": "stdout",
     "output_type": "stream",
     "text": [
      "Processed 10 commits.\n",
      "Processed 20 commits.\n",
      "Processed 30 commits.\n",
      "Processed 40 commits.\n",
      "Processed 50 commits.\n",
      "Processed 60 commits.\n",
      "Processed 70 commits.\n",
      "Processed 80 commits.\n",
      "Processed 90 commits.\n",
      "Processed 100 commits.\n",
      "Processed 110 commits.\n",
      "Processed 120 commits.\n",
      "Processed 130 commits.\n",
      "Processed 140 commits.\n",
      "Processed 150 commits.\n",
      "Processed 160 commits.\n",
      "Processed 170 commits.\n",
      "Processed 180 commits.\n",
      "Processed 190 commits.\n",
      "Processed 200 commits.\n",
      "Processed 210 commits.\n",
      "Processed 220 commits.\n",
      "Processed 230 commits.\n",
      "Processed 240 commits.\n",
      "Processed 250 commits.\n",
      "Processed 260 commits.\n",
      "Processed 270 commits.\n",
      "Processed 280 commits.\n",
      "Processed 290 commits.\n",
      "Processed 300 commits.\n",
      "Processed 310 commits.\n",
      "Processed 320 commits.\n",
      "Processed 330 commits.\n",
      "Processed 340 commits.\n",
      "Processed 350 commits.\n",
      "Processed 360 commits.\n",
      "Processed 370 commits.\n",
      "Processed 380 commits.\n",
      "Processed 390 commits.\n",
      "Processed 400 commits.\n",
      "Processed 410 commits.\n",
      "Processed 420 commits.\n",
      "Processed 430 commits.\n",
      "Processed 440 commits.\n",
      "Processed 450 commits.\n",
      "Processed 460 commits.\n",
      "Processed 470 commits.\n",
      "Processed 480 commits.\n",
      "Processed 490 commits.\n",
      "Processed 500 commits.\n"
     ]
    }
   ],
   "source": [
    "# Fetch commit data\n",
    "commit_data = fetch_commits(owner, repo, branch, token,per_page=100,pages=5)\n",
    "\n",
    "# Label commits with associated pull requests\n",
    "labeled_commits = label_commits_with_prs(owner, repo, commit_data, token)\n",
    "json.dump(commit_data, open(f\"{repo}.json\", \"w\"), indent=2)"
   ]
  },
  {
   "cell_type": "code",
   "execution_count": null,
   "metadata": {},
   "outputs": [],
   "source": [
    "print(f\"Total commits: {len(commit_data)}\")"
   ]
  }
 ],
 "metadata": {
  "kernelspec": {
   "display_name": "Python 3",
   "language": "python",
   "name": "python3"
  },
  "language_info": {
   "codemirror_mode": {
    "name": "ipython",
    "version": 3
   },
   "file_extension": ".py",
   "mimetype": "text/x-python",
   "name": "python",
   "nbconvert_exporter": "python",
   "pygments_lexer": "ipython3",
   "version": "3.10.12"
  }
 },
 "nbformat": 4,
 "nbformat_minor": 2
}
